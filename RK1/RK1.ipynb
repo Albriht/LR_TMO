{
 "cells": [
  {
   "cell_type": "code",
   "execution_count": 1,
   "id": "37f846a6",
   "metadata": {},
   "outputs": [],
   "source": [
    "import numpy as np\n",
    "import pandas as pd\n",
    "import seaborn as sns\n",
    "import matplotlib.pyplot as plt\n",
    "%matplotlib inline\n",
    "sns.set(style=\"ticks\")"
   ]
  },
  {
   "cell_type": "code",
   "execution_count": 2,
   "id": "ff683cac",
   "metadata": {},
   "outputs": [],
   "source": [
    "data = pd.read_csv('C:\\\\Users\\\\Albriht\\\\Desktop\\\\FIFA 2018 Statistics.csv' , sep=\",\")"
   ]
  },
  {
   "cell_type": "code",
   "execution_count": 3,
   "id": "3112d765",
   "metadata": {},
   "outputs": [
    {
     "data": {
      "text/plain": [
       "(128, 27)"
      ]
     },
     "execution_count": 3,
     "metadata": {},
     "output_type": "execute_result"
    }
   ],
   "source": [
    "# Размер набора\n",
    "data.shape"
   ]
  },
  {
   "cell_type": "code",
   "execution_count": 4,
   "id": "c5eda57f",
   "metadata": {},
   "outputs": [
    {
     "data": {
      "text/plain": [
       "Date                       object\n",
       "Team                       object\n",
       "Opponent                   object\n",
       "Goal Scored                 int64\n",
       "Ball Possession %           int64\n",
       "Attempts                    int64\n",
       "On-Target                   int64\n",
       "Off-Target                  int64\n",
       "Blocked                     int64\n",
       "Corners                     int64\n",
       "Offsides                    int64\n",
       "Free Kicks                  int64\n",
       "Saves                       int64\n",
       "Pass Accuracy %             int64\n",
       "Passes                      int64\n",
       "Distance Covered (Kms)      int64\n",
       "Fouls Committed             int64\n",
       "Yellow Card                 int64\n",
       "Yellow & Red                int64\n",
       "Red                         int64\n",
       "Man of the Match           object\n",
       "1st Goal                  float64\n",
       "Round                      object\n",
       "PSO                        object\n",
       "Goals in PSO                int64\n",
       "Own goals                 float64\n",
       "Own goal Time             float64\n",
       "dtype: object"
      ]
     },
     "execution_count": 4,
     "metadata": {},
     "output_type": "execute_result"
    }
   ],
   "source": [
    "# Типы колонок\n",
    "data.dtypes"
   ]
  },
  {
   "cell_type": "code",
   "execution_count": 5,
   "id": "55ff1561",
   "metadata": {},
   "outputs": [
    {
     "name": "stdout",
     "output_type": "stream",
     "text": [
      "Всего строк: 128\n"
     ]
    }
   ],
   "source": [
    "total_count = data.shape[0]\n",
    "print('Всего строк: {}'.format(total_count))"
   ]
  },
  {
   "cell_type": "code",
   "execution_count": 9,
   "id": "c95b7c29",
   "metadata": {},
   "outputs": [
    {
     "data": {
      "text/plain": [
       "<seaborn.axisgrid.FacetGrid at 0x255874934f0>"
      ]
     },
     "execution_count": 9,
     "metadata": {},
     "output_type": "execute_result"
    },
    {
     "data": {
      "image/png": "[encoded data removed]",
      "text/plain": [
       "<Figure size 360x360 with 1 Axes>"
      ]
     },
     "metadata": {},
     "output_type": "display_data"
    }
   ],
   "source": [
    "sns.displot (x=data['Blocked'])"
   ]
  },
  {
   "cell_type": "code",
   "execution_count": 10,
   "id": "e23ede0b",
   "metadata": {},
   "outputs": [
    {
     "data": {
      "text/plain": [
       "Date                        0\n",
       "Team                        0\n",
       "Opponent                    0\n",
       "Goal Scored                 0\n",
       "Ball Possession %           0\n",
       "Attempts                    0\n",
       "On-Target                   0\n",
       "Off-Target                  0\n",
       "Blocked                     0\n",
       "Corners                     0\n",
       "Offsides                    0\n",
       "Free Kicks                  0\n",
       "Saves                       0\n",
       "Pass Accuracy %             0\n",
       "Passes                      0\n",
       "Distance Covered (Kms)      0\n",
       "Fouls Committed             0\n",
       "Yellow Card                 0\n",
       "Yellow & Red                0\n",
       "Red                         0\n",
       "Man of the Match            0\n",
       "1st Goal                   34\n",
       "Round                       0\n",
       "PSO                         0\n",
       "Goals in PSO                0\n",
       "Own goals                 116\n",
       "Own goal Time             116\n",
       "dtype: int64"
      ]
     },
     "execution_count": 10,
     "metadata": {},
     "output_type": "execute_result"
    }
   ],
   "source": [
    "# Найдем пропуски в столбцах\n",
    "data.isnull().sum()"
   ]
  },
  {
   "cell_type": "code",
   "execution_count": 11,
   "id": "0d005dd4",
   "metadata": {},
   "outputs": [
    {
     "name": "stdout",
     "output_type": "stream",
     "text": [
      "Колонка 1st Goal. Тип данных float64. Количество пустых значений 34, 26.56%.\n",
      "Колонка Own goals. Тип данных float64. Количество пустых значений 116, 90.62%.\n",
      "Колонка Own goal Time. Тип данных float64. Количество пустых значений 116, 90.62%.\n"
     ]
    }
   ],
   "source": [
    "num_cols = []\n",
    "for col in data.columns:\n",
    "    # Количество пустых значений \n",
    "    temp_null_count = data[data[col].isnull()].shape[0]     \n",
    "    dt = str(data[col].dtype)     \n",
    "    if temp_null_count>0 and (dt=='float64' or dt=='object' or dt=='int64'):\n",
    "        num_cols.append(col)\n",
    "        temp_perc = round((temp_null_count / total_count) * 100.0, 2)         \n",
    "        print('Колонка {}. Тип данных {}. Количество пустых значений {}, {}%.'.format(col, dt, temp_null_count, temp_perc))"
   ]
  },
  {
   "cell_type": "code",
   "execution_count": 12,
   "id": "a86c83f2",
   "metadata": {},
   "outputs": [],
   "source": [
    "for col in data.columns:\n",
    "    temp_null_count = data[data[col].isnull()].shape[0]\n",
    "    dt = str(data[col].dtype)\n",
    "    if temp_null_count > 0 and (dt=='float64'):\n",
    "        data[col]=data[col].fillna('0')"
   ]
  },
  {
   "cell_type": "code",
   "execution_count": 13,
   "id": "d373a309",
   "metadata": {},
   "outputs": [],
   "source": [
    "num_cols = []\n",
    "for col in data.columns:\n",
    "    # Количество пустых значений \n",
    "    temp_null_count = data[data[col].isnull()].shape[0]     \n",
    "    dt = str(data[col].dtype)     \n",
    "    if temp_null_count>0 and (dt=='float64' or dt=='object' or dt=='int64'):\n",
    "        num_cols.append(col)\n",
    "        temp_perc = round((temp_null_count / total_count) * 100.0, 2)         \n",
    "        print('Колонка {}. Тип данных {}. Количество пустых значений {}, {}%.'.format(col, dt, temp_null_count, temp_perc))"
   ]
  },
  {
   "cell_type": "code",
   "execution_count": 14,
   "id": "a7f18b1a",
   "metadata": {},
   "outputs": [
    {
     "data": {
      "text/plain": [
       "Date                      0\n",
       "Team                      0\n",
       "Opponent                  0\n",
       "Goal Scored               0\n",
       "Ball Possession %         0\n",
       "Attempts                  0\n",
       "On-Target                 0\n",
       "Off-Target                0\n",
       "Blocked                   0\n",
       "Corners                   0\n",
       "Offsides                  0\n",
       "Free Kicks                0\n",
       "Saves                     0\n",
       "Pass Accuracy %           0\n",
       "Passes                    0\n",
       "Distance Covered (Kms)    0\n",
       "Fouls Committed           0\n",
       "Yellow Card               0\n",
       "Yellow & Red              0\n",
       "Red                       0\n",
       "Man of the Match          0\n",
       "1st Goal                  0\n",
       "Round                     0\n",
       "PSO                       0\n",
       "Goals in PSO              0\n",
       "Own goals                 0\n",
       "Own goal Time             0\n",
       "dtype: int64"
      ]
     },
     "execution_count": 14,
     "metadata": {},
     "output_type": "execute_result"
    }
   ],
   "source": [
    "data.isnull().sum()"
   ]
  },
  {
   "cell_type": "code",
   "execution_count": null,
   "id": "778bb148",
   "metadata": {},
   "outputs": [],
   "source": []
  }
 ],
 "metadata": {
  "kernelspec": {
   "display_name": "Python 3",
   "language": "python",
   "name": "python3"
  },
  "language_info": {
   "codemirror_mode": {
    "name": "ipython",
    "version": 3
   },
   "file_extension": ".py",
   "mimetype": "text/x-python",
   "name": "python",
   "nbconvert_exporter": "python",
   "pygments_lexer": "ipython3",
   "version": "3.8.8"
  }
 },
 "nbformat": 4,
 "nbformat_minor": 5
}
